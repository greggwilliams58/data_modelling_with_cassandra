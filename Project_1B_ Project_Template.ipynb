{
 "cells": [
  {
   "cell_type": "markdown",
   "metadata": {
    "editable": true
   },
   "source": [
    "# Part I. ETL Pipeline for Pre-Processing the Files"
   ]
  },
  {
   "cell_type": "markdown",
   "metadata": {
    "editable": true
   },
   "source": [
    "## PLEASE RUN THE FOLLOWING CODE FOR PRE-PROCESSING THE FILES"
   ]
  },
  {
   "cell_type": "markdown",
   "metadata": {
    "editable": true
   },
   "source": [
    "#### Import Python packages "
   ]
  },
  {
   "cell_type": "code",
   "execution_count": 66,
   "metadata": {
    "editable": true
   },
   "outputs": [],
   "source": [
    "# Import Python packages \n",
    "import pandas as pd\n",
    "import cassandra\n",
    "import re\n",
    "import os\n",
    "import glob\n",
    "import numpy as np\n",
    "import json\n",
    "import csv"
   ]
  },
  {
   "cell_type": "markdown",
   "metadata": {
    "editable": true
   },
   "source": [
    "#### Creating list of filepaths to process original event csv data files"
   ]
  },
  {
   "cell_type": "code",
   "execution_count": 67,
   "metadata": {
    "editable": true
   },
   "outputs": [
    {
     "name": "stdout",
     "output_type": "stream",
     "text": [
      "/home/workspace\n"
     ]
    }
   ],
   "source": [
    "# checking your current working directory\n",
    "print(os.getcwd())\n",
    "\n",
    "# Get your current folder and subfolder event data\n",
    "filepath = os.getcwd() + '/event_data'\n",
    "\n",
    "# Create a for loop to create a list of files and collect each filepath\n",
    "for root, dirs, files in os.walk(filepath):\n",
    "    \n",
    "# join the file path and roots with the subdirectories using glob\n",
    "    file_path_list = glob.glob(os.path.join(root,'*'))\n",
    "    #print(file_path_list)"
   ]
  },
  {
   "cell_type": "markdown",
   "metadata": {
    "editable": true
   },
   "source": [
    "#### Processing the files to create the data file csv that will be used for Apache Casssandra tables"
   ]
  },
  {
   "cell_type": "code",
   "execution_count": 68,
   "metadata": {
    "editable": true
   },
   "outputs": [],
   "source": [
    "# initiating an empty list of rows that will be generated from each file\n",
    "full_data_rows_list = [] \n",
    "    \n",
    "# for every filepath in the file path list \n",
    "for f in file_path_list:\n",
    "\n",
    "# reading csv file \n",
    "    with open(f, 'r', encoding = 'utf8', newline='') as csvfile: \n",
    "        # creating a csv reader object \n",
    "        csvreader = csv.reader(csvfile) \n",
    "        next(csvreader)\n",
    "        \n",
    " # extracting each data row one by one and append it        \n",
    "        for line in csvreader:\n",
    "            #print(line)\n",
    "            full_data_rows_list.append(line) \n",
    "            \n",
    "# uncomment the code below if you would like to get total number of rows \n",
    "#print(len(full_data_rows_list))\n",
    "# uncomment the code below if you would like to check to see what the list of event data rows will look like\n",
    "#print(full_data_rows_list[0])\n",
    "\n",
    "# creating a smaller event data csv file called event_datafile_full csv that will be used to insert data into the \\\n",
    "# Apache Cassandra tables\n",
    "csv.register_dialect('myDialect', quoting=csv.QUOTE_ALL, skipinitialspace=True)\n",
    "\n",
    "with open('event_datafile_new.csv', 'w', encoding = 'utf8', newline='') as f:\n",
    "    writer = csv.writer(f, dialect='myDialect')\n",
    "    writer.writerow(['artist','firstName','gender','itemInSession','lastName','length',\\\n",
    "                'level','location','sessionId','song','userId'])\n",
    "    for row in full_data_rows_list:\n",
    "        if (row[0] == ''):\n",
    "            continue\n",
    "        writer.writerow((row[0], row[2], row[3], row[4], row[5], row[6], row[7], row[8], row[12], row[13], row[16]))\n"
   ]
  },
  {
   "cell_type": "code",
   "execution_count": 69,
   "metadata": {
    "editable": true
   },
   "outputs": [
    {
     "name": "stdout",
     "output_type": "stream",
     "text": [
      "6821\n"
     ]
    }
   ],
   "source": [
    "# check the number of rows in your csv file\n",
    "with open('event_datafile_new.csv', 'r', encoding = 'utf8') as f:\n",
    "    print(sum(1 for line in f))"
   ]
  },
  {
   "cell_type": "markdown",
   "metadata": {
    "editable": true
   },
   "source": [
    "# Part II. Complete the Apache Cassandra coding portion of your project. \n",
    "\n",
    "## Now you are ready to work with the CSV file titled <font color=red>event_datafile_new.csv</font>, located within the Workspace directory.  The event_datafile_new.csv contains the following columns: \n",
    "- artist \n",
    "- firstName of user\n",
    "- gender of user\n",
    "- item number in session\n",
    "- last name of user\n",
    "- length of the song\n",
    "- level (paid or free song)\n",
    "- location of the user\n",
    "- sessionId\n",
    "- song title\n",
    "- userId\n",
    "\n",
    "The image below is a screenshot of what the denormalized data should appear like in the <font color=red>**event_datafile_new.csv**</font> after the code above is run:<br>\n",
    "\n",
    "<img src=\"images/image_event_datafile_new.jpg\">"
   ]
  },
  {
   "cell_type": "markdown",
   "metadata": {
    "editable": true
   },
   "source": [
    "## Begin writing your Apache Cassandra code in the cells below"
   ]
  },
  {
   "cell_type": "markdown",
   "metadata": {
    "editable": true
   },
   "source": [
    "#### Creating a Cluster"
   ]
  },
  {
   "cell_type": "code",
   "execution_count": 70,
   "metadata": {
    "editable": true
   },
   "outputs": [],
   "source": [
    "# This should make a connection to a Cassandra instance your local machine \n",
    "# (127.0.0.1)\n",
    "\n",
    "from cassandra.cluster import Cluster\n",
    "cluster = Cluster()\n",
    "\n",
    "# To establish connection and begin executing queries, need a session\n",
    "session = cluster.connect()"
   ]
  },
  {
   "cell_type": "markdown",
   "metadata": {
    "editable": true
   },
   "source": [
    "#### Create Keyspace"
   ]
  },
  {
   "cell_type": "code",
   "execution_count": 71,
   "metadata": {
    "editable": true
   },
   "outputs": [],
   "source": [
    "try:\n",
    "    session.execute(\"\"\"\n",
    "    CREATE KEYSPACE IF NOT EXISTS udacity\n",
    "    WITH REPLICATION =\n",
    "    {'class': 'SimpleStrategy','replication_factor':1}\n",
    "    \"\"\")\n",
    "\n",
    "except Exception as e:\n",
    "    print(e)\n",
    "        "
   ]
  },
  {
   "cell_type": "markdown",
   "metadata": {
    "editable": true
   },
   "source": [
    "#### Set Keyspace"
   ]
  },
  {
   "cell_type": "code",
   "execution_count": 72,
   "metadata": {
    "editable": true
   },
   "outputs": [],
   "source": [
    "try:\n",
    "    session.set_keyspace('udacity')\n",
    "except Exception as e:\n",
    "    print(e)"
   ]
  },
  {
   "cell_type": "markdown",
   "metadata": {
    "editable": true
   },
   "source": [
    "### Now we need to create tables to run the following queries. Remember, with Apache Cassandra you model the database tables on the queries you want to run."
   ]
  },
  {
   "cell_type": "markdown",
   "metadata": {
    "editable": true
   },
   "source": [
    "## Create queries to ask the following three questions of the data\n",
    "\n",
    "### 1. Give me the artist, song title and song's length in the music app history that was heard during  sessionId = 338, and itemInSession  = 4\n",
    "\n",
    "\n",
    "### 2. Give me only the following: name of artist, song (sorted by itemInSession) and user (first and last name) for userid = 10, sessionid = 182\n",
    "    \n",
    "\n",
    "### 3. Give me every user name (first and last) in my music app history who listened to the song 'All Hands Against His Own'\n",
    "\n",
    "\n"
   ]
  },
  {
   "cell_type": "code",
   "execution_count": 73,
   "metadata": {
    "editable": true
   },
   "outputs": [],
   "source": [
    "## Define the table for the first query: individual_song_by_session_and_session_item\n",
    "query1_create_table = \"CREATE TABLE IF NOT EXISTS individual_song_by_session_and_session_item \"\n",
    "query1_create_table = query1_create_table + \"(session_id int, item_in_session int, artist text,song text, song_length decimal, \\\n",
    "                                            PRIMARY KEY (session_id, item_in_session ))\"\n",
    "\n",
    "##PRIMARY KEY defined as session_id and item_in_session to provide a definition of a unique row within this subset of data.  \n",
    "##No further cluster columns are requred as no sort order is to be expected from a one-row results set \n",
    "\n",
    "#create the individual_songs_by_session_and_session_item table\n",
    "try:\n",
    "    session.execute(query1_create_table)\n",
    "except Exception as e:\n",
    "    print(e)\n",
    "      "
   ]
  },
  {
   "cell_type": "code",
   "execution_count": 74,
   "metadata": {
    "editable": true
   },
   "outputs": [],
   "source": [
    "#import csv data into the individual_song_by_session_and_session_item table, using a loop to insert each relevant item for each field, with explicit data conversion\n",
    "file = 'event_datafile_new.csv'\n",
    "\n",
    "with open(file, encoding = 'utf8') as f:\n",
    "    csvreader = csv.reader(f)\n",
    "    next(csvreader) # skip header\n",
    "    for line in csvreader:\n",
    "        insert_query1 = \"INSERT INTO individual_song_by_session_and_session_item (session_id, item_in_session, artist, song, song_length)\"\n",
    "        insert_query1 = insert_query1 + \"VALUES (%s,%s,%s,%s,%s);\"\n",
    "        session.execute(insert_query1, (int(line[8]), int(line[3]),line[0],line[9],float(line[5])))\n",
    "   "
   ]
  },
  {
   "cell_type": "markdown",
   "metadata": {
    "editable": true
   },
   "source": [
    "#### Do a SELECT to verify that the data have been inserted into each table"
   ]
  },
  {
   "cell_type": "code",
   "execution_count": 88,
   "metadata": {
    "editable": true,
    "scrolled": true
   },
   "outputs": [
    {
     "name": "stdout",
     "output_type": "stream",
     "text": [
      "Faithless Music Matters (Mark Knight Dub) 495.3073\n",
      "      artist                             song song_length\n",
      "0  Faithless  Music Matters (Mark Knight Dub)    495.3073\n"
     ]
    }
   ],
   "source": [
    "#define the query\n",
    "query1 = \"SELECT artist, song, song_length FROM individual_song_by_session_and_session_item WHERE session_id = 338 and item_in_session = 4\"\n",
    "\n",
    "#execute the query\n",
    "try:\n",
    "    rows = session.execute(query1)\n",
    "except Exception as e:\n",
    "    print(e)\n",
    "\n",
    "#print resultset to the console and insert values into a pandas dataframe\n",
    "for row in rows:\n",
    "    print(row.artist, row.song, row.song_length)\n",
    "    df1 = pd.DataFrame(data={'artist':[row.artist], 'song':[row.song], 'song_length':[row.song_length]}, columns= ['artist','song','song_length'])\n",
    "\n",
    "print(df1)"
   ]
  },
  {
   "cell_type": "markdown",
   "metadata": {
    "editable": true
   },
   "source": [
    "### COPY AND REPEAT THE ABOVE THREE CELLS FOR EACH OF THE THREE QUESTIONS"
   ]
  },
  {
   "cell_type": "code",
   "execution_count": 87,
   "metadata": {
    "editable": true
   },
   "outputs": [
    {
     "name": "stdout",
     "output_type": "stream",
     "text": [
      "Down To The Bone Keep On Keepin' On Keep On Keepin' On 10\n",
      "Three Drives Greece 2000 Greece 2000 10\n",
      "Sebastien Tellier Kilometer Kilometer 10\n",
      "Lonnie Gordon Catch You Baby (Steve Pitron & Max Sanna Radio Edit) Catch You Baby (Steve Pitron & Max Sanna Radio Edit) 10\n",
      "              artist                                               song  \\\n",
      "0   Down To The Bone                                 Keep On Keepin' On   \n",
      "1       Three Drives                                        Greece 2000   \n",
      "2  Sebastien Tellier                                          Kilometer   \n",
      "3      Lonnie Gordon  Catch You Baby (Steve Pitron & Max Sanna Radio...   \n",
      "\n",
      "   user_id  \n",
      "0       10  \n",
      "1       10  \n",
      "2       10  \n",
      "3       10  \n"
     ]
    }
   ],
   "source": [
    "## Define the table for the second query: artist_and_songs_played_by_named_users\n",
    "query2_create_table = \"CREATE TABLE IF NOT EXISTS artist_and_songs_played_by_named_users \"\n",
    "query2_create_table = query2_create_table + \"(user_id int,session_id int, song text,item_in_session_id int, artist text, first_name text, last_name text,  \\\n",
    "                                            PRIMARY KEY ((user_id,session_id),item_in_session_id));\"\n",
    "\n",
    "##PRIMARY KEY defined as 'user_id' and 'session_id' to provide a definition of a unique row within this subset of data.  \n",
    "##A clustering column has been defined with 'item_in_session_id' to provide an ascending sort order in the returned dataset\n",
    "\n",
    "#create the individual_songs_by_session_and_session_item table\n",
    "try:\n",
    "    session.execute(query2_create_table)\n",
    "except Exception as e:\n",
    "    print(e)\n",
    "    \n",
    "#import csv data into the artist_and_songs_played_by_named_users table, using a loop to insert each relevant item for each field, with explicit data conversion\n",
    "file = 'event_datafile_new.csv'\n",
    "\n",
    "with open(file, encoding = 'utf8') as f:\n",
    "    csvreader = csv.reader(f)\n",
    "    next(csvreader) # skip header\n",
    "    for line in csvreader:\n",
    "        insert_query2 = \"INSERT INTO artist_and_songs_played_by_named_users (user_id,session_id, song, item_in_session_id,artist, first_name, last_name)\"\n",
    "        insert_query2 = insert_query2 + \"VALUES (%s,%s,%s,%s,%s,%s,%s);\"\n",
    "        session.execute(insert_query2, (int(line[10]), int(line[8]),line[9],int(line[3]),line[0],line[1],line[4] ))\n",
    "\n",
    "#define the query\n",
    "query2 = \"SELECT artist, song, user_id FROM artist_and_songs_played_by_named_users WHERE user_id = 10 and session_id = 182\"\n",
    "\n",
    "#execute the query\n",
    "try:\n",
    "    rows = session.execute(query2)\n",
    "except Exception as e:\n",
    "    print(e)\n",
    "\n",
    "#print resultset to the console and convert to a pandas dataframe.\n",
    "holding_list = []\n",
    "for row in rows:\n",
    "    print(row.artist, row.song, row.song, row.user_id )      \n",
    "    holding_list.append([row.artist, row.song, row.user_id])\n",
    "\n",
    "df2 = pd.DataFrame(holding_list, columns=['artist','song', 'user_id'])\n",
    "print(df2)"
   ]
  },
  {
   "cell_type": "code",
   "execution_count": 89,
   "metadata": {
    "editable": true
   },
   "outputs": [
    {
     "name": "stdout",
     "output_type": "stream",
     "text": [
      "Jacqueline Lynch\n",
      "Tegan Levine\n",
      "Sara Johnson\n",
      "   first_name last_name\n",
      "0  Jacqueline     Lynch\n",
      "1       Tegan    Levine\n",
      "2        Sara   Johnson\n"
     ]
    }
   ],
   "source": [
    "## Define the table for the third query: songs_played_by_users\n",
    "query3_create_table = \"CREATE TABLE IF NOT EXISTS song_played_by_users \"\n",
    "query3_create_table = query3_create_table + \"(song text, user_id int, item_in_session int, first_name text, last_name text,PRIMARY KEY (song, user_id, item_in_session));\"\n",
    "\n",
    "\n",
    "##PRIMARY KEY defined as the where item 'songs', and user_id and item_in_session to create a definition of a unique row\n",
    "\n",
    "#create songs_played_by_users table\n",
    "try:\n",
    "    session.execute(query3_create_table)\n",
    "except Exception as e:\n",
    "    print(e)\n",
    "\n",
    "\n",
    "#import csv data into the song_played_by_users table, using a loop to insert each relevant item for each field, with explicit data conversion\n",
    "file = 'event_datafile_new.csv'\n",
    "\n",
    "with open(file, encoding = 'utf8') as f:\n",
    "    csvreader = csv.reader(f)\n",
    "    next(csvreader) # skip header\n",
    "    for line in csvreader:\n",
    "        insert_query3 = \"INSERT INTO song_played_by_users (song, user_id, item_in_session, first_name, last_name)\"\n",
    "        insert_query3 = insert_query3 + \"VALUES (%s,%s,%s,%s,%s);\"\n",
    "        session.execute(insert_query3, \n",
    "                        (line[9],int(line[10]),int(line[3]),line[1],line[4]) )\n",
    "\n",
    "#define the query\n",
    "query3 = \"SELECT first_name, last_name from song_played_by_users WHERE song = 'All Hands Against His Own'\"\n",
    "\n",
    "#execute the query\n",
    "try:\n",
    "    rows = session.execute(query3)\n",
    "except Exception as e:\n",
    "    print(e)\n",
    "\n",
    "#print resultset to the console and convert to a pandas dataframe.\n",
    "holding_list = []\n",
    "for row in rows:\n",
    "    print(row.first_name, row.last_name)\n",
    "    holding_list.append([row.first_name, row.last_name])\n",
    "\n",
    "df3 = pd.DataFrame(holding_list, columns=['first_name','last_name'])\n",
    "print(df3)"
   ]
  },
  {
   "cell_type": "code",
   "execution_count": null,
   "metadata": {
    "editable": true
   },
   "outputs": [],
   "source": []
  },
  {
   "cell_type": "code",
   "execution_count": null,
   "metadata": {
    "editable": true
   },
   "outputs": [],
   "source": []
  },
  {
   "cell_type": "markdown",
   "metadata": {
    "editable": true
   },
   "source": [
    "### Drop the tables before closing out the sessions"
   ]
  },
  {
   "cell_type": "code",
   "execution_count": 62,
   "metadata": {
    "editable": true
   },
   "outputs": [],
   "source": [
    "# drop the unnecessary tables\n",
    "drop_individual_song_by_session_and_session_item = \"DROP TABLE individual_song_by_session_and_session_item\"\n",
    "try:\n",
    "    rows = session.execute(drop_individual_song_by_session_and_session_item)\n",
    "except Exception as e:\n",
    "    print(e)\n",
    "    \n",
    "    \n",
    "drop_artist_and_song_by_session_and_user = \"DROP TABLE artist_and_songs_played_by_named_users\"\n",
    "try:\n",
    "    rows = session.execute(drop_artist_and_song_by_session_and_user)\n",
    "except Exception as e:\n",
    "    print(e)\n",
    "\n",
    "\n",
    "drop_song_played_by_users = \"DROP TABLE song_played_by_users\"\n",
    "try:\n",
    "    rows = session.execute(drop_song_played_by_users)\n",
    "except Exception as e:\n",
    "    print(e)\n",
    "    "
   ]
  },
  {
   "cell_type": "code",
   "execution_count": null,
   "metadata": {
    "editable": true
   },
   "outputs": [],
   "source": []
  },
  {
   "cell_type": "markdown",
   "metadata": {
    "editable": true
   },
   "source": [
    "### Close the session and cluster connection¶"
   ]
  },
  {
   "cell_type": "code",
   "execution_count": 63,
   "metadata": {
    "editable": true
   },
   "outputs": [],
   "source": [
    "#close down session and connection to cluster\n",
    "session.shutdown()\n",
    "cluster.shutdown()"
   ]
  },
  {
   "cell_type": "code",
   "execution_count": null,
   "metadata": {
    "editable": true
   },
   "outputs": [],
   "source": []
  },
  {
   "cell_type": "code",
   "execution_count": null,
   "metadata": {
    "editable": true
   },
   "outputs": [],
   "source": []
  }
 ],
 "metadata": {
  "kernelspec": {
   "display_name": "Python 3",
   "language": "python",
   "name": "python3"
  },
  "language_info": {
   "codemirror_mode": {
    "name": "ipython",
    "version": 3
   },
   "file_extension": ".py",
   "mimetype": "text/x-python",
   "name": "python",
   "nbconvert_exporter": "python",
   "pygments_lexer": "ipython3",
   "version": "3.6.3"
  }
 },
 "nbformat": 4,
 "nbformat_minor": 4
}
